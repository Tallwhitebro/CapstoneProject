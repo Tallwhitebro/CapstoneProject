{
 "cells": [
  {
   "cell_type": "code",
   "execution_count": 124,
   "metadata": {},
   "outputs": [],
   "source": [
    "import pandas as pd\n",
    "from sklearn.svm import SVC # actual support vector classifier"
   ]
  },
  {
   "cell_type": "code",
   "execution_count": 125,
   "metadata": {},
   "outputs": [
    {
     "name": "stdout",
     "output_type": "stream",
     "text": [
      "Total students: 28446\n"
     ]
    }
   ],
   "source": [
    "# load cleaned up csvs into dataframe\n",
    "path = 'cleaned_data/allStudents/allStudents_'\n",
    "years = [11,12,13,14,15,16] # 17 <- used for testing created model\n",
    "target = 'ACCEPTED'\n",
    "\n",
    "df_test = pd.read_csv(path + '17.csv')\n",
    "df_train = pd.read_csv(path + '10.csv')\n",
    "\n",
    "for y in years:\n",
    "    #print(' + Year: ' + str(y) + ' = ')\n",
    "    df_train = df_train.append(pd.read_csv(path + str(y)+'.csv'))\n",
    "    \n",
    "print('Total students: ' + str(len(df_train)))\n",
    "\n",
    "#maybe combining and scrambling the data and splitting the data 80-20 for training and testing would be better?\n",
    "#so \"from sklearn.model_selection import train_test_split\"?\n",
    "\n",
    "#32710 students --> 28446 students after removing students with any empty fields"
   ]
  },
  {
   "cell_type": "code",
   "execution_count": 126,
   "metadata": {},
   "outputs": [],
   "source": [
    "#dir(df_train)\n",
    "df_train_tgt=df_train.ACCEPTED #get 1d array as the target\n",
    "df_test_tgt=df_test.ACCEPTED\n",
    "\n",
    "# drop target columns from datasets\n",
    "#df_test.head()\n",
    "df_test = df_test.drop(['ACCEPTED'], axis='columns')\n",
    "df_train = df_train.drop(['ACCEPTED'], axis='columns')\n",
    "#df_test.head()"
   ]
  },
  {
   "cell_type": "code",
   "execution_count": 127,
   "metadata": {},
   "outputs": [
    {
     "data": {
      "text/plain": [
       "28446"
      ]
     },
     "execution_count": 127,
     "metadata": {},
     "output_type": "execute_result"
    }
   ],
   "source": [
    "len(df_train)"
   ]
  },
  {
   "cell_type": "code",
   "execution_count": null,
   "metadata": {},
   "outputs": [],
   "source": [
    "#len(df_test)"
   ]
  },
  {
   "cell_type": "code",
   "execution_count": 128,
   "metadata": {},
   "outputs": [
    {
     "name": "stderr",
     "output_type": "stream",
     "text": [
      "C:\\Users\\Owner\\Anaconda3\\lib\\site-packages\\sklearn\\svm\\base.py:196: FutureWarning: The default value of gamma will change from 'auto' to 'scale' in version 0.22 to account better for unscaled features. Set gamma explicitly to 'auto' or 'scale' to avoid this warning.\n",
      "  \"avoid this warning.\", FutureWarning)\n"
     ]
    },
    {
     "name": "stdout",
     "output_type": "stream",
     "text": [
      "[LibSVM]"
     ]
    },
    {
     "data": {
      "text/plain": [
       "SVC(C=1.0, cache_size=200, class_weight=None, coef0=0.0,\n",
       "  decision_function_shape='ovr', degree=3, gamma='auto_deprecated',\n",
       "  kernel='rbf', max_iter=-1, probability=False, random_state=None,\n",
       "  shrinking=True, tol=0.001, verbose=True)"
      ]
     },
     "execution_count": 128,
     "metadata": {},
     "output_type": "execute_result"
    }
   ],
   "source": [
    "model = SVC(verbose=True)\n",
    "model.fit(df_train, df_train_tgt)\n",
    "\n",
    "# parameter changing to be done here\n",
    "# fixme: get progress to show in some way upon execution\n",
    "# takes about 15 minutes to run"
   ]
  },
  {
   "cell_type": "code",
   "execution_count": 129,
   "metadata": {},
   "outputs": [
    {
     "data": {
      "text/plain": [
       "0.8365650969529086"
      ]
     },
     "execution_count": 129,
     "metadata": {},
     "output_type": "execute_result"
    }
   ],
   "source": [
    "model.score(df_test, df_test_tgt)"
   ]
  }
 ],
 "metadata": {
  "kernelspec": {
   "display_name": "Python 3",
   "language": "python",
   "name": "python3"
  },
  "language_info": {
   "codemirror_mode": {
    "name": "ipython",
    "version": 3
   },
   "file_extension": ".py",
   "mimetype": "text/x-python",
   "name": "python",
   "nbconvert_exporter": "python",
   "pygments_lexer": "ipython3",
   "version": "3.7.4"
  }
 },
 "nbformat": 4,
 "nbformat_minor": 2
}
