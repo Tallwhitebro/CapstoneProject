{
 "cells": [
  {
   "cell_type": "markdown",
   "metadata": {},
   "source": [
    "# Initial Data Analysis - Capstone Project"
   ]
  },
  {
   "cell_type": "code",
   "execution_count": 110,
   "metadata": {},
   "outputs": [],
   "source": [
    "# Imports\n",
    "import os\n",
    "import csv\n",
    "import numpy as np\n",
    "import pandas as pd\n",
    "from pandas import Int64Index\n",
    "import pickle\n",
    "import sys"
   ]
  },
  {
   "cell_type": "code",
   "execution_count": 111,
   "metadata": {},
   "outputs": [],
   "source": [
    "def save_as_pkl(object, path):\n",
    "\tpickle.dump(object, open(path, \"wb\"))\n",
    "\n",
    "def load_pkl(path):\n",
    "\tobj = pickle.load(open(path, \"rb\"))\n",
    "\treturn obj"
   ]
  },
  {
   "cell_type": "markdown",
   "metadata": {},
   "source": [
    "### Preprocessing and loading the data"
   ]
  },
  {
   "cell_type": "code",
   "execution_count": 112,
   "metadata": {},
   "outputs": [
    {
     "name": "stdout",
     "output_type": "stream",
     "text": [
      "\n",
      "file10.csv\n",
      "(3979, 392)\n",
      "\n",
      "file11.csv\n",
      "(3958, 392)\n",
      "\n",
      "file12.csv\n",
      "(4286, 392)\n",
      "\n",
      "file13.csv\n",
      "(4638, 392)\n",
      "\n",
      "file14.csv\n",
      "(4836, 392)\n",
      "\n",
      "file15.csv\n",
      "(5557, 392)\n",
      "\n",
      "file16.csv\n",
      "(5456, 392)\n",
      "\n",
      "file17.csv\n",
      "(5207, 392)\n"
     ]
    }
   ],
   "source": [
    "# Processing the .csvs into dataframes and saving them as pickles for easier\n",
    "# loading on future runs\n",
    "files = [f for f in os.listdir(\"data/\") if f.split('1')[0] == 'file']\n",
    "for file in files:\n",
    "    print ('\\n'+file)\n",
    "    fName = file.split('.')[0]\n",
    "    df = pd.read_csv('data/' + file, delimiter=',', na_values=['NA'])\n",
    "#     df[\"Id\"] = df.reset_index().index\n",
    "#     df.set_index(\"Id\")\n",
    "    print(df.shape)\n",
    "    save_as_pkl(df, 'pickles/'+fName+'.pkl')"
   ]
  },
  {
   "cell_type": "code",
   "execution_count": 113,
   "metadata": {},
   "outputs": [
    {
     "name": "stdout",
     "output_type": "stream",
     "text": [
      "(3979, 392)\n",
      "(3958, 392)\n",
      "(4286, 392)\n",
      "(4638, 392)\n",
      "(4836, 392)\n",
      "(5557, 392)\n",
      "(5456, 392)\n",
      "(5207, 392)\n"
     ]
    }
   ],
   "source": [
    "## Loading preprocessed dataframes\n",
    "pklFiles = [f for f in os.listdir(\"pickles/\") if f.split('1')[0] == 'file']\n",
    "for file in pklFiles:\n",
    "\tdf = load_pkl(\"pickles/\" + file)\n",
    "\tprint(df.shape)"
   ]
  },
  {
   "cell_type": "markdown",
   "metadata": {},
   "source": [
    "# Change Year Loaded Here:"
   ]
  },
  {
   "cell_type": "code",
   "execution_count": 134,
   "metadata": {},
   "outputs": [],
   "source": [
    "# YEAR:\n",
    "fname = \"file17.pkl\"\n",
    "df = load_pkl(\"pickles/\"+fname)"
   ]
  },
  {
   "cell_type": "markdown",
   "metadata": {},
   "source": [
    "### Starting to analyze the data"
   ]
  },
  {
   "cell_type": "code",
   "execution_count": 135,
   "metadata": {},
   "outputs": [
    {
     "name": "stdout",
     "output_type": "stream",
     "text": [
      "0         0\n",
      "1         0\n",
      "2         0\n",
      "3         0\n",
      "4         0\n",
      "       ... \n",
      "5202    813\n",
      "5203    820\n",
      "5204      0\n",
      "5205      0\n",
      "5206      0\n",
      "Name: WAVERG1, Length: 5207, dtype: int64 0       895\n",
      "1       833\n",
      "2       830\n",
      "3       965\n",
      "4       913\n",
      "       ... \n",
      "5202    813\n",
      "5203    820\n",
      "5204    905\n",
      "5205      0\n",
      "5206    890\n",
      "Name: WAVERG2, Length: 5207, dtype: int64\n"
     ]
    }
   ],
   "source": [
    "# First 30 columns:\n",
    "firstPart = df.iloc[:,0:30]\n",
    "# print(firstPart.columns.values)\n",
    "\n",
    "# Columns 30 to 65: (top 6 course marks)\n",
    "top6CourseMarks = df.iloc[:,30:66]\n",
    "# print(top6CourseMarks.columns.values)\n",
    "\n",
    "# cols = []\n",
    "# for column in top6CourseMarks[top6CourseMarks.columns[2::3]]:\n",
    "#     cols.append(df[column])\n",
    "# hstack = pd.concat([x for x in cols], axis=1)\n",
    "# hstack.fillna(0, inplace=True)\n",
    "# hstack['Sum'] = hstack.mean(axis=1)\n",
    "# print(hstack)\n",
    "\n",
    "# Columns 66 to 71:\n",
    "middle = df.iloc[:,66:72]\n",
    "print(middle[\"WAVERG1\"], middle[\"WAVERG2\"])\n",
    "# print(middle.columns.values)\n",
    "\n",
    "# Columns 72 to 391:\n",
    "choices = df.iloc[:, 72:]\n",
    "# print(choices.columns.values)"
   ]
  },
  {
   "cell_type": "code",
   "execution_count": 136,
   "metadata": {},
   "outputs": [],
   "source": [
    "# # COlumns 72 to 391:\n",
    "# choices = df.iloc[:, 72:]\n",
    "# print(choices.columns.values)\n",
    "# for col in choices.columns.values:\n",
    "#     print[]\n",
    "    \n",
    "# cols = []\n",
    "# for column in top6CourseMarks[top6CourseMarks.columns[2::3]]:\n",
    "#     cols.append(df[column])\n",
    "# hstack = pd.concat([x for x in cols], axis=1)\n",
    "# # hstack.fillna(0, inplace=True)\n",
    "# hstack['Sum'] = hstack.mean(axis=1)\n",
    "# print(hstack)\n"
   ]
  },
  {
   "cell_type": "markdown",
   "metadata": {},
   "source": [
    "# TODOS:\n",
    "- Determine the cutoff by finding lowest GPA student that got into Mac program\n",
    "- Group choices for each student\n",
    "- Divide dataset into those who got into Mac, and those who did not."
   ]
  },
  {
   "cell_type": "markdown",
   "metadata": {},
   "source": [
    "# Determining grade cutoff"
   ]
  },
  {
   "cell_type": "markdown",
   "metadata": {},
   "source": [
    "### Seperating relevant data\n",
    "- Splitting data into students who accept and offer from mac and those who don't.\n",
    "- Isolating 8 initial columns of interest for analysis"
   ]
  },
  {
   "cell_type": "code",
   "execution_count": 137,
   "metadata": {},
   "outputs": [],
   "source": [
    "## Starting columns of interest:\n",
    "# RESPROV - Province of Residence\n",
    "# RESCNTY - County of Residence\n",
    "# ZIP3 - Residence Postal Code (First 3 Digits)\n",
    "# CONFUNI - Confirmed University (OurUni='196')\n",
    "# CONFPR - Confirmed Program (OurProg='SI', OurProg_coop='SIA')\n",
    "# CONFCHOIC - OUAC Confirmed Choice Preference\n",
    "# WAVERG1 - Weighted Average (best 6 OAC / Senior Level current year finals)\n",
    "# WAVERG2 - Weighted Average (best 6 OAC / Senior Level all year finals)\n",
    "## First 6 columns are in first half, last 2 are in \"Middle\" dataframe.\n",
    "\n",
    "COIsFirstHalf = [\"RESPROV\", \"RESCNTY\", \"ZIP3\", \"CONFUNI\", \"CONFPR\", \"CONFCHOIC\"]\n",
    "COIsSecondHalf = [\"WAVERG1\", \"WAVERG2\"]\n",
    "\n",
    "# Adding columns of interest found in first half of the data\n",
    "columnsOfInterest = pd.concat([firstPart[x] for x in COIsFirstHalf], axis=1)\n",
    "\n",
    "# Adding the rest of the columns of interest\n",
    "columnsOfInterest = pd.concat([columnsOfInterest] + [middle[x] for x in COIsSecondHalf],axis=1)\n",
    "copy = columnsOfInterest.copy()\n",
    "\n",
    "mcmasterVector = copy[\"CONFUNI\"] == 196\n",
    "notmcmasterVector = copy[\"CONFUNI\"] != 196"
   ]
  },
  {
   "cell_type": "markdown",
   "metadata": {},
   "source": [
    "### Some min/max/average output for both student types:"
   ]
  },
  {
   "cell_type": "code",
   "execution_count": 139,
   "metadata": {},
   "outputs": [
    {
     "name": "stdout",
     "output_type": "stream",
     "text": [
      "Students who accepted an offer from McMaster:\n",
      "Mean values for each column:\n",
      "RESPROV      124.922652\n",
      "RESCNTY      148.733425\n",
      "CONFUNI      196.000000\n",
      "CONFCHOIC      2.490331\n",
      "WAVERG1      745.044199\n",
      "WAVERG2      911.273481\n",
      "dtype: float64\n",
      "\n",
      "Max values for each column:\n",
      "RESPROV      125\n",
      "RESCNTY      185\n",
      "CONFUNI      196\n",
      "CONFPR       SIA\n",
      "CONFCHOIC     10\n",
      "WAVERG1      990\n",
      "WAVERG2      990\n",
      "dtype: object\n",
      "\n",
      "Lowest 5 weighted average:\n",
      "      RESPROV  RESCNTY ZIP3  CONFUNI CONFPR  CONFCHOIC  WAVERG1  WAVERG2\n",
      "2785      125      134  M2U    196.0     SI        2.0      850      850\n",
      "2797      125      146  M7N    196.0     SI        2.0      852      852\n",
      "3878      125      143  N3I    196.0     SI        1.0        0      858\n",
      "1858      125      185  L2T    196.0     SI        5.0      867      867\n",
      "3526      125      143  N0D    196.0     SI        3.0      867      867\n",
      "4002      125      143  N7Q    196.0     SI        2.0      868      868\n",
      "4928      125      164  M0H    196.0     SI        1.0      825      868\n",
      "4934      125      153  L8M    196.0     SI        2.0      870      870\n",
      "332       125      146  M7M    196.0     SI        3.0      872      872\n",
      "2624      125      156  M5D    196.0     SI        1.0      845      872\n",
      "\n",
      "Shape of acceptedMcMaster df (number of students that accepted):\n",
      "(1168, 8)\n",
      "\n",
      "\n",
      "\n",
      "\n",
      "\n",
      "Min average of students who didn't accept mac offer\n",
      "RESPROV      121.0\n",
      "RESCNTY      134.0\n",
      "CONFUNI      120.0\n",
      "CONFCHOIC      1.0\n",
      "WAVERG1        0.0\n",
      "WAVERG2      560.0\n",
      "dtype: float64\n",
      "\n",
      "Max average of students who didn't accept mac offer\n",
      "RESPROV      129.0\n",
      "RESCNTY      185.0\n",
      "CONFUNI      199.0\n",
      "CONFCHOIC     16.0\n",
      "WAVERG1      995.0\n",
      "WAVERG2      997.0\n",
      "dtype: float64\n",
      "\n",
      "Average average of students who didn't accept mac offer\n",
      "RESPROV      124.941626\n",
      "RESCNTY      149.230181\n",
      "CONFUNI      186.376461\n",
      "CONFCHOIC      2.782274\n",
      "WAVERG1      718.186592\n",
      "WAVERG2      887.598776\n",
      "dtype: float64\n"
     ]
    }
   ],
   "source": [
    "# Students that received and accepted a McMaster offer:\n",
    "acceptedMcMaster = copy[mcmasterVector]\n",
    "# print(acceptedMcMaster)\n",
    "# print(acceptedMcMaster[(acceptedMcMaster[\"WAVERG2\"] > 0) & (acceptedMcMaster[\"CONFPR\"] == \"SIA\")].min())\n",
    "print(\"Students who accepted an offer from McMaster:\")\n",
    "print(\"Mean values for each column:\")\n",
    "print(acceptedMcMaster[(acceptedMcMaster[\"WAVERG2\"] > 0) & (acceptedMcMaster[\"CONFPR\"] == \"SIA\")].mean())\n",
    "print(\"\\nMax values for each column:\")\n",
    "print(acceptedMcMaster[(acceptedMcMaster[\"WAVERG2\"] > 0) & (acceptedMcMaster[\"CONFPR\"] == \"SIA\")].max())\n",
    "print(\"\\nLowest 5 weighted average:\")\n",
    "print(acceptedMcMaster[(acceptedMcMaster[\"WAVERG2\"] > 0) & (acceptedMcMaster[\"CONFPR\"] == \"SI\")].nsmallest(10,\"WAVERG2\"))\n",
    "print(\"\\nShape of acceptedMcMaster df (number of students that accepted):\")\n",
    "print(acceptedMcMaster.shape)\n",
    "\n",
    "# Students that didn't accept a mcmaster offer:\n",
    "print('\\n\\n\\n\\n')\n",
    "notMcMaster = copy[notmcmasterVector]\n",
    "# print(notMcMaster)\n",
    "print(\"Min average of students who didn't accept mac offer\")\n",
    "print(notMcMaster[notMcMaster[\"WAVERG2\"] > 0].min())\n",
    "print(\"\\nMax average of students who didn't accept mac offer\")\n",
    "print(notMcMaster[notMcMaster[\"WAVERG2\"] > 0].max())\n",
    "print(\"\\nAverage average of students who didn't accept mac offer\")\n",
    "print(notMcMaster[notMcMaster[\"WAVERG2\"] > 0].mean())\n"
   ]
  },
  {
   "cell_type": "code",
   "execution_count": null,
   "metadata": {},
   "outputs": [],
   "source": []
  }
 ],
 "metadata": {
  "kernelspec": {
   "display_name": "Python 3",
   "language": "python",
   "name": "python3"
  },
  "language_info": {
   "codemirror_mode": {
    "name": "ipython",
    "version": 3
   },
   "file_extension": ".py",
   "mimetype": "text/x-python",
   "name": "python",
   "nbconvert_exporter": "python",
   "pygments_lexer": "ipython3",
   "version": "3.7.4"
  }
 },
 "nbformat": 4,
 "nbformat_minor": 2
}
