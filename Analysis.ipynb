{
 "cells": [
  {
   "cell_type": "markdown",
   "metadata": {},
   "source": [
    "# Initial Data Analysis - Capstone Project"
   ]
  },
  {
   "cell_type": "code",
   "execution_count": 5,
   "metadata": {},
   "outputs": [],
   "source": [
    "# Imports\n",
    "import os\n",
    "import csv\n",
    "import numpy as np\n",
    "import pandas as pd\n",
    "from pandas import Int64Index\n",
    "import pickle\n",
    "import sys"
   ]
  },
  {
   "cell_type": "code",
   "execution_count": 6,
   "metadata": {},
   "outputs": [],
   "source": [
    "def save_as_pkl(object, path):\n",
    "\tpickle.dump(object, open(path, \"wb\"))\n",
    "\n",
    "def load_pkl(path):\n",
    "\tobj = pickle.load(open(path, \"rb\"))\n",
    "\treturn obj"
   ]
  },
  {
   "cell_type": "markdown",
   "metadata": {},
   "source": [
    "### Preprocessing and loading the data"
   ]
  },
  {
   "cell_type": "code",
   "execution_count": 108,
   "metadata": {},
   "outputs": [
    {
     "name": "stdout",
     "output_type": "stream",
     "text": [
      "\n",
      "file10.csv\n"
     ]
    },
    {
     "name": "stderr",
     "output_type": "stream",
     "text": [
      "/Users/janollers/opt/anaconda3/lib/python3.7/site-packages/IPython/core/interactiveshell.py:3058: DtypeWarning: Columns (35,41,44,47,50,59) have mixed types. Specify dtype option on import or set low_memory=False.\n",
      "  interactivity=interactivity, compiler=compiler, result=result)\n"
     ]
    },
    {
     "name": "stdout",
     "output_type": "stream",
     "text": [
      "(3979, 392)\n",
      "\n",
      "file11.csv\n"
     ]
    },
    {
     "name": "stderr",
     "output_type": "stream",
     "text": [
      "/Users/janollers/opt/anaconda3/lib/python3.7/site-packages/IPython/core/interactiveshell.py:3058: DtypeWarning: Columns (41,47) have mixed types. Specify dtype option on import or set low_memory=False.\n",
      "  interactivity=interactivity, compiler=compiler, result=result)\n"
     ]
    },
    {
     "name": "stdout",
     "output_type": "stream",
     "text": [
      "(3958, 392)\n",
      "\n",
      "file12.csv\n"
     ]
    },
    {
     "name": "stderr",
     "output_type": "stream",
     "text": [
      "/Users/janollers/opt/anaconda3/lib/python3.7/site-packages/IPython/core/interactiveshell.py:3058: DtypeWarning: Columns (35,38,41,50,53,56,71,274,276,306,308,322,324,338,340,354,356,362,365,370,372,374,375,378,381,386,388,390,391) have mixed types. Specify dtype option on import or set low_memory=False.\n",
      "  interactivity=interactivity, compiler=compiler, result=result)\n"
     ]
    },
    {
     "name": "stdout",
     "output_type": "stream",
     "text": [
      "(4286, 392)\n",
      "\n",
      "file13.csv\n"
     ]
    },
    {
     "name": "stderr",
     "output_type": "stream",
     "text": [
      "/Users/janollers/opt/anaconda3/lib/python3.7/site-packages/IPython/core/interactiveshell.py:3058: DtypeWarning: Columns (32,35,38,44,50,56,354,356,370,372) have mixed types. Specify dtype option on import or set low_memory=False.\n",
      "  interactivity=interactivity, compiler=compiler, result=result)\n"
     ]
    },
    {
     "name": "stdout",
     "output_type": "stream",
     "text": [
      "(4638, 392)\n",
      "\n",
      "file14.csv\n"
     ]
    },
    {
     "name": "stderr",
     "output_type": "stream",
     "text": [
      "/Users/janollers/opt/anaconda3/lib/python3.7/site-packages/IPython/core/interactiveshell.py:3058: DtypeWarning: Columns (32,38,41,56) have mixed types. Specify dtype option on import or set low_memory=False.\n",
      "  interactivity=interactivity, compiler=compiler, result=result)\n"
     ]
    },
    {
     "name": "stdout",
     "output_type": "stream",
     "text": [
      "(4836, 392)\n",
      "\n",
      "file15.csv\n",
      "(5557, 392)\n",
      "\n",
      "file16.csv\n",
      "(5456, 392)\n",
      "\n",
      "file17.csv\n",
      "(5207, 392)\n"
     ]
    }
   ],
   "source": [
    "# Processing the .csvs into dataframes and saving them as pickles for easier\n",
    "# loading on future runs\n",
    "files = [f for f in os.listdir(\"data/\") if f.split('1')[0] == 'file']\n",
    "for file in files:\n",
    "    print ('\\n'+file)\n",
    "    fName = file.split('.')[0]\n",
    "    df = pd.read_csv('data/' + file, delimiter=',', na_values=['NA'])\n",
    "#     df[\"Id\"] = df.reset_index().index\n",
    "#     df.set_index(\"Id\")\n",
    "    print(df.shape)\n",
    "    save_as_pkl(df, 'pickles/'+fName+'.pkl')"
   ]
  },
  {
   "cell_type": "code",
   "execution_count": 79,
   "metadata": {},
   "outputs": [
    {
     "name": "stdout",
     "output_type": "stream",
     "text": [
      "(3979, 392)\n",
      "(3958, 392)\n",
      "(4286, 392)\n",
      "(4638, 392)\n",
      "(4836, 392)\n",
      "(5557, 392)\n",
      "(5456, 392)\n",
      "(5207, 392)\n"
     ]
    }
   ],
   "source": [
    "## Loading preprocessed dataframes\n",
    "pklFiles = [f for f in os.listdir(\"pickles/\") if f.split('1')[0] == 'file']\n",
    "for file in pklFiles:\n",
    "\tdf = load_pkl(\"pickles/\" + file)\n",
    "\tprint(df.shape)"
   ]
  },
  {
   "cell_type": "markdown",
   "metadata": {},
   "source": [
    "# Change this 'fname' value to load data for different years"
   ]
  },
  {
   "cell_type": "code",
   "execution_count": 87,
   "metadata": {},
   "outputs": [],
   "source": [
    "# YEAR:\n",
    "fname = \"file16.pkl\"\n",
    "df = load_pkl(\"pickles/\"+fname)"
   ]
  },
  {
   "cell_type": "markdown",
   "metadata": {},
   "source": [
    "### Starting to analyze the data"
   ]
  },
  {
   "cell_type": "code",
   "execution_count": 107,
   "metadata": {},
   "outputs": [
    {
     "name": "stdout",
     "output_type": "stream",
     "text": [
      "      SECORM1  SECORM2  SECORM3  SECORM4  SECORM5  SECORM6  SECORM7  SECORM8  \\\n",
      "0        93.0     95.0     91.0     87.0     88.0     88.0     87.0     85.0   \n",
      "1        72.0     88.0     95.0     90.0     94.0     80.0     95.0      NaN   \n",
      "2        71.0     66.0     70.0     71.0     67.0     81.0     82.0      NaN   \n",
      "3        83.0     94.0     94.0     90.0     87.0     92.0      NaN      NaN   \n",
      "4        91.0     93.0     96.0     95.0     96.0     93.0      NaN      NaN   \n",
      "...       ...      ...      ...      ...      ...      ...      ...      ...   \n",
      "5451      NaN      NaN      NaN      NaN      NaN      NaN      NaN      NaN   \n",
      "5452     87.0     90.0     77.0     80.0     81.0     87.0      NaN      NaN   \n",
      "5453     95.0     91.0     88.0     78.0     75.0     96.0     91.0     85.0   \n",
      "5454     60.0     51.0     77.0     86.0     77.0     86.0     80.0     85.0   \n",
      "5455     68.0     75.0     82.0      NaN     84.0     76.0     70.0      NaN   \n",
      "\n",
      "      SECORM9  SECORM10  SECORM11  SECORM12        Sum  \n",
      "0        85.0       NaN       NaN       NaN  88.777778  \n",
      "1         NaN       NaN       NaN       NaN  87.714286  \n",
      "2         NaN       NaN       NaN       NaN  72.571429  \n",
      "3         NaN       NaN       NaN       NaN  90.000000  \n",
      "4         NaN       NaN       NaN       NaN  94.000000  \n",
      "...       ...       ...       ...       ...        ...  \n",
      "5451      NaN       NaN       NaN       NaN        NaN  \n",
      "5452      NaN       NaN       NaN       NaN  83.666667  \n",
      "5453     93.0       NaN       NaN       NaN  88.000000  \n",
      "5454      NaN       NaN       NaN       NaN  75.250000  \n",
      "5455      NaN       NaN       NaN       NaN  75.833333  \n",
      "\n",
      "[5456 rows x 13 columns]\n",
      "0         0\n",
      "1         0\n",
      "2       737\n",
      "3       900\n",
      "4       940\n",
      "       ... \n",
      "5451      0\n",
      "5452    837\n",
      "5453    923\n",
      "5454    785\n",
      "5455      0\n",
      "Name: WAVERG1, Length: 5456, dtype: int64 0       903\n",
      "1       903\n",
      "2       737\n",
      "3       900\n",
      "4       940\n",
      "       ... \n",
      "5451      0\n",
      "5452    837\n",
      "5453    923\n",
      "5454    818\n",
      "5455    758\n",
      "Name: WAVERG2, Length: 5456, dtype: int64\n"
     ]
    }
   ],
   "source": [
    "# First 30 columns:\n",
    "firstPart = df.iloc[:,0:30]\n",
    "# print(firstPart.columns.values)\n",
    "\n",
    "# Columns 30 to 65: (top 6 course marks)\n",
    "top6CourseMarks = df.iloc[:,30:66]\n",
    "# print(top6CourseMarks.columns.values)\n",
    "\n",
    "cols = []\n",
    "for column in top6CourseMarks[top6CourseMarks.columns[2::3]]:\n",
    "    cols.append(df[column])\n",
    "hstack = pd.concat([x for x in cols], axis=1)\n",
    "# hstack.fillna(0, inplace=True)\n",
    "hstack['Sum'] = hstack.mean(axis=1)\n",
    "print(hstack)\n",
    "\n",
    "# Columns 66 to 71:\n",
    "middle = df.iloc[:,66:72]\n",
    "print(middle[\"WAVERG1\"], middle[\"WAVERG2\"])\n",
    "# print(middle.columns.values)\n",
    "\n",
    "# Columns 72 to 391:\n",
    "choices = df.iloc[:, 72:]\n",
    "# print(choices.columns.values)"
   ]
  },
  {
   "cell_type": "code",
   "execution_count": 89,
   "metadata": {},
   "outputs": [],
   "source": [
    "# # COlumns 72 to 391:\n",
    "# choices = df.iloc[:, 72:]\n",
    "# print(choices.columns.values)\n",
    "# for col in choices.columns.values:\n",
    "#     print[]\n",
    "    \n",
    "# cols = []\n",
    "# for column in top6CourseMarks[top6CourseMarks.columns[2::3]]:\n",
    "#     cols.append(df[column])\n",
    "# hstack = pd.concat([x for x in cols], axis=1)\n",
    "# # hstack.fillna(0, inplace=True)\n",
    "# hstack['Sum'] = hstack.mean(axis=1)\n",
    "# print(hstack)\n"
   ]
  },
  {
   "cell_type": "markdown",
   "metadata": {},
   "source": [
    "# TODOS:\n",
    "- Determine the cutoff by finding lowest GPA student that got into Mac program\n",
    "- Group choices for each student\n",
    "- Divide dataset into those who got into Mac, and those who did not."
   ]
  },
  {
   "cell_type": "markdown",
   "metadata": {},
   "source": [
    "# Determining grade cutoff"
   ]
  },
  {
   "cell_type": "markdown",
   "metadata": {},
   "source": [
    "### Seperating relevant data\n",
    "- Splitting data into students who accept and offer from mac and those who don't.\n",
    "- Isolating 8 initial columns of interest for analysis"
   ]
  },
  {
   "cell_type": "code",
   "execution_count": 102,
   "metadata": {},
   "outputs": [],
   "source": [
    "## Starting columns of interest:\n",
    "# RESPROV - Province of Residence\n",
    "# RESCNTY - County of Residence\n",
    "# ZIP3 - Residence Postal Code (First 3 Digits)\n",
    "# CONFUNI - Confirmed University (OurUni='196')\n",
    "# CONFPR - Confirmed Program (OurProg='SI', OurProg_coop='SIA')\n",
    "# CONFCHOIC - OUAC Confirmed Choice Preference\n",
    "# WAVERG1 - Weighted Average (best 6 OAC / Senior Level current year finals)\n",
    "# WAVERG2 - Weighted Average (best 6 OAC / Senior Level all year finals)\n",
    "## First 6 columns are in first half, last 2 are in \"Middle\" dataframe.\n",
    "\n",
    "COIsFirstHalf = [\"RESPROV\", \"RESCNTY\", \"ZIP3\", \"CONFUNI\", \"CONFPR\", \"CONFCHOIC\"]\n",
    "COIsSecondHalf = [\"WAVERG1\", \"WAVERG2\"]\n",
    "\n",
    "# Adding columns of interest found in first half of the data\n",
    "columnsOfInterest = pd.concat([firstPart[x] for x in COIsFirstHalf], axis=1)\n",
    "\n",
    "# Adding the rest of the columns of interest\n",
    "columnsOfInterest = pd.concat([columnsOfInterest] + [middle[x] for x in COIsSecondHalf],axis=1)\n",
    "copy = columnsOfInterest.copy()\n",
    "\n",
    "mcmasterVector = copy[\"CONFUNI\"] == 196\n",
    "notmcmasterVector = copy[\"CONFUNI\"] != 196"
   ]
  },
  {
   "cell_type": "markdown",
   "metadata": {},
   "source": [
    "### Some min/max/average output for both student types:"
   ]
  },
  {
   "cell_type": "code",
   "execution_count": 106,
   "metadata": {},
   "outputs": [
    {
     "name": "stdout",
     "output_type": "stream",
     "text": [
      "Students who accepted an offer from McMaster:\n",
      "Mean values for each column:\n",
      "RESPROV      124.977901\n",
      "RESCNTY      149.314917\n",
      "CONFUNI      196.000000\n",
      "CONFCHOIC      2.217311\n",
      "WAVERG1      721.955801\n",
      "WAVERG2      910.149171\n",
      "dtype: float64\n",
      "\n",
      "Max values for each column:\n",
      "RESPROV      125\n",
      "RESCNTY      185\n",
      "CONFUNI      196\n",
      "CONFPR       SIA\n",
      "CONFCHOIC     10\n",
      "WAVERG1      988\n",
      "WAVERG2      990\n",
      "dtype: object\n",
      "\n",
      "Lowest 5 weighted average:\n",
      "      RESPROV  RESCNTY ZIP3  CONFUNI CONFPR  CONFCHOIC  WAVERG1  WAVERG2\n",
      "5373      125      144  M7A    196.0     SI        2.0      858      858\n",
      "4588      125      143  N7Q    196.0     SI        3.0      860      860\n",
      "135       125      165  M3B    196.0     SI        1.0      825      862\n",
      "299       125      146  M7I    196.0     SI        1.0      867      867\n",
      "4066      125      146  M7K    196.0     SI        1.0      867      867\n",
      "\n",
      "Shape of acceptedMcMaster df (number of students that accepted):\n",
      "(943, 8)\n",
      "\n",
      "\n",
      "\n",
      "\n",
      "\n",
      "Min average of students who didn't accept mac offer\n",
      "RESPROV      121.0\n",
      "RESCNTY      134.0\n",
      "CONFUNI      103.0\n",
      "CONFCHOIC      1.0\n",
      "WAVERG1        0.0\n",
      "WAVERG2      557.0\n",
      "dtype: float64\n",
      "\n",
      "Max average of students who didn't accept mac offer\n",
      "RESPROV      125.0\n",
      "RESCNTY      185.0\n",
      "CONFUNI      199.0\n",
      "CONFCHOIC     30.0\n",
      "WAVERG1      997.0\n",
      "WAVERG2      998.0\n",
      "dtype: float64\n",
      "\n",
      "Average average of students who didn't accept mac offer\n",
      "RESPROV      124.913543\n",
      "RESCNTY      149.141412\n",
      "CONFUNI      187.062866\n",
      "CONFCHOIC      2.743955\n",
      "WAVERG1      693.652334\n",
      "WAVERG2      878.493217\n",
      "dtype: float64\n"
     ]
    }
   ],
   "source": [
    "# Students that received and accepted a McMaster offer:\n",
    "acceptedMcMaster = copy[mcmasterVector]\n",
    "# print(acceptedMcMaster)\n",
    "# print(acceptedMcMaster[(acceptedMcMaster[\"WAVERG2\"] > 0) & (acceptedMcMaster[\"CONFPR\"] == \"SIA\")].min())\n",
    "print(\"Students who accepted an offer from McMaster:\")\n",
    "print(\"Mean values for each column:\")\n",
    "print(acceptedMcMaster[(acceptedMcMaster[\"WAVERG2\"] > 0) & (acceptedMcMaster[\"CONFPR\"] == \"SIA\")].mean())\n",
    "print(\"\\nMax values for each column:\")\n",
    "print(acceptedMcMaster[(acceptedMcMaster[\"WAVERG2\"] > 0) & (acceptedMcMaster[\"CONFPR\"] == \"SIA\")].max())\n",
    "print(\"\\nLowest 5 weighted average:\")\n",
    "print(acceptedMcMaster[(acceptedMcMaster[\"WAVERG2\"] > 0) & (acceptedMcMaster[\"CONFPR\"] == \"SI\")].nsmallest(5,\"WAVERG2\"))\n",
    "print(\"\\nShape of acceptedMcMaster df (number of students that accepted):\")\n",
    "print(acceptedMcMaster.shape)\n",
    "\n",
    "# Students that didn't accept a mcmaster offer:\n",
    "print('\\n\\n\\n\\n')\n",
    "notMcMaster = copy[notmcmasterVector]\n",
    "# print(notMcMaster)\n",
    "print(\"Min average of students who didn't accept mac offer\")\n",
    "print(notMcMaster[notMcMaster[\"WAVERG2\"] > 0].min())\n",
    "print(\"\\nMax average of students who didn't accept mac offer\")\n",
    "print(notMcMaster[notMcMaster[\"WAVERG2\"] > 0].max())\n",
    "print(\"\\nAverage average of students who didn't accept mac offer\")\n",
    "print(notMcMaster[notMcMaster[\"WAVERG2\"] > 0].mean())\n"
   ]
  },
  {
   "cell_type": "code",
   "execution_count": null,
   "metadata": {},
   "outputs": [],
   "source": []
  }
 ],
 "metadata": {
  "kernelspec": {
   "display_name": "Python 3",
   "language": "python",
   "name": "python3"
  },
  "language_info": {
   "codemirror_mode": {
    "name": "ipython",
    "version": 3
   },
   "file_extension": ".py",
   "mimetype": "text/x-python",
   "name": "python",
   "nbconvert_exporter": "python",
   "pygments_lexer": "ipython3",
   "version": "3.7.4"
  }
 },
 "nbformat": 4,
 "nbformat_minor": 2
}
