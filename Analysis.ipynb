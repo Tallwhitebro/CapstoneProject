{
 "cells": [
  {
   "cell_type": "markdown",
   "metadata": {},
   "source": [
    "# Initial Data Analysis - Capstone Project"
   ]
  },
  {
   "cell_type": "code",
   "execution_count": 49,
   "metadata": {},
   "outputs": [],
   "source": [
    "# Imports\n",
    "import os\n",
    "import csv\n",
    "import numpy as np\n",
    "import pandas as pd\n",
    "from pandas import Int64Index\n",
    "import pickle\n",
    "import sys\n",
    "import math"
   ]
  },
  {
   "cell_type": "code",
   "execution_count": 50,
   "metadata": {},
   "outputs": [],
   "source": [
    "def save_as_pkl(object, path):\n",
    "\tpickle.dump(object, open(path, \"wb\"))\n",
    "\n",
    "def load_pkl(path):\n",
    "\tobj = pickle.load(open(path, \"rb\"))\n",
    "\treturn obj"
   ]
  },
  {
   "cell_type": "markdown",
   "metadata": {},
   "source": [
    "### Preprocessing and loading the data"
   ]
  },
  {
   "cell_type": "code",
   "execution_count": 51,
   "metadata": {},
   "outputs": [
    {
     "name": "stdout",
     "output_type": "stream",
     "text": [
      "\n",
      "file12.csv\n",
      "(4286, 392)\n",
      "\n",
      "file13.csv\n",
      "(4638, 392)\n",
      "\n",
      "file11.csv\n",
      "(3958, 392)\n",
      "\n",
      "file10.csv\n",
      "(3979, 392)\n",
      "\n",
      "file14.csv\n",
      "(4836, 392)\n",
      "\n",
      "file15.csv\n",
      "(5557, 392)\n",
      "\n",
      "file17.csv\n",
      "(5207, 392)\n",
      "\n",
      "file16.csv\n",
      "(5456, 392)\n"
     ]
    }
   ],
   "source": [
    "# Processing the .csvs into dataframes and saving them as pickles for easier\n",
    "# loading on future runs\n",
    "files = [f for f in os.listdir(\"data/\") if f.split('1')[0] == 'file']\n",
    "for file in files:\n",
    "    print ('\\n'+file)\n",
    "    fName = file.split('.')[0]\n",
    "    df = pd.read_csv('data/' + file, delimiter=',', na_values=['NA'])\n",
    "#     df[\"Id\"] = df.reset_index().index\n",
    "#     df.set_index(\"Id\")\n",
    "    print(df.shape)\n",
    "    save_as_pkl(df, 'pickles/'+fName+'.pkl')"
   ]
  },
  {
   "cell_type": "code",
   "execution_count": 52,
   "metadata": {},
   "outputs": [
    {
     "name": "stdout",
     "output_type": "stream",
     "text": [
      "(4286, 392)\n",
      "(4638, 392)\n",
      "(3958, 392)\n",
      "(3979, 392)\n",
      "(4836, 392)\n",
      "(5557, 392)\n",
      "(5207, 392)\n",
      "(5456, 392)\n"
     ]
    }
   ],
   "source": [
    "## Loading preprocessed dataframes\n",
    "pklFiles = [f for f in os.listdir(\"pickles/\") if f.split('1')[0] == 'file']\n",
    "for file in pklFiles:\n",
    "\tdf = load_pkl(\"pickles/\" + file)\n",
    "\tprint(df.shape)"
   ]
  },
  {
   "cell_type": "markdown",
   "metadata": {},
   "source": [
    "# Change Year Loaded Here:"
   ]
  },
  {
   "cell_type": "code",
   "execution_count": 53,
   "metadata": {},
   "outputs": [],
   "source": [
    "# YEAR:\n",
    "year = 17\n",
    "fname = \"file\"+str(year)+\".pkl\"\n",
    "df = load_pkl(\"pickles/\"+fname)"
   ]
  },
  {
   "cell_type": "markdown",
   "metadata": {},
   "source": [
    "### Starting to analyze the data"
   ]
  },
  {
   "cell_type": "code",
   "execution_count": 54,
   "metadata": {},
   "outputs": [
    {
     "name": "stdout",
     "output_type": "stream",
     "text": [
      "0         0\n",
      "1         0\n",
      "2         0\n",
      "3         0\n",
      "4         0\n",
      "       ... \n",
      "5202    813\n",
      "5203    820\n",
      "5204      0\n",
      "5205      0\n",
      "5206      0\n",
      "Name: WAVERG1, Length: 5207, dtype: int64 0       895\n",
      "1       833\n",
      "2       830\n",
      "3       965\n",
      "4       913\n",
      "       ... \n",
      "5202    813\n",
      "5203    820\n",
      "5204    905\n",
      "5205      0\n",
      "5206    890\n",
      "Name: WAVERG2, Length: 5207, dtype: int64\n"
     ]
    }
   ],
   "source": [
    "# First 30 columns:\n",
    "firstPart = df.iloc[:,0:30]\n",
    "# print(firstPart.columns.values)\n",
    "\n",
    "# Columns 30 to 65: (top 6 course marks)\n",
    "top6CourseMarks = df.iloc[:,30:66]\n",
    "# print(top6CourseMarks.columns.values)\n",
    "\n",
    "# cols = []\n",
    "# for column in top6CourseMarks[top6CourseMarks.columns[2::3]]:\n",
    "#     cols.append(df[column])\n",
    "# hstack = pd.concat([x for x in cols], axis=1)\n",
    "# hstack.fillna(0, inplace=True)\n",
    "# hstack['Sum'] = hstack.mean(axis=1)\n",
    "# print(hstack)\n",
    "\n",
    "# Columns 66 to 71:\n",
    "middle = df.iloc[:,66:72]\n",
    "print(middle[\"WAVERG1\"], middle[\"WAVERG2\"])\n",
    "# print(middle.columns.values)\n",
    "\n",
    "# Columns 72 to 391:\n",
    "choices = df.iloc[:, 72:]\n",
    "# print(choices.columns.values)"
   ]
  },
  {
   "cell_type": "code",
   "execution_count": 55,
   "metadata": {},
   "outputs": [
    {
     "name": "stdout",
     "output_type": "stream",
     "text": [
      "  SECORCOD1  SECORC1  SECORM1 SECORCOD2  SECORC2  SECORM2 SECORCOD3  SECORC3  \\\n",
      "0     CGW4U      100     82.0     CHI4U    100.0     58.0     ENG4U    100.0   \n",
      "1     CGW4U      100     83.0     CHI4U    100.0     71.0     ENG4U    100.0   \n",
      "2     ENG4U      100     82.0     MCV4U    100.0     80.0     MDM4U    100.0   \n",
      "3     BAT4M      100     96.0     ENG4U    100.0     91.0     HRE4M    100.0   \n",
      "4     ENG4U      100     86.0     MCV4U    100.0     92.0     MDM4U    100.0   \n",
      "\n",
      "   SECORM3 SECORCOD4  ...  SECORM9  SECORCOD10 SECORC10  SECORM10  SECORCOD11  \\\n",
      "0     80.0     MCV4U  ...      NaN         NaN      NaN       NaN         NaN   \n",
      "1     76.0     MCV4U  ...      NaN         NaN      NaN       NaN         NaN   \n",
      "2     84.0     MHF4U  ...      NaN         NaN      NaN       NaN         NaN   \n",
      "3     90.0     MCV4U  ...     95.0         NaN      NaN       NaN         NaN   \n",
      "4     93.0     MHF4U  ...      NaN         NaN      NaN       NaN         NaN   \n",
      "\n",
      "  SECORC11  SECORM11  SECORCOD12 SECORC12  SECORM12  \n",
      "0      NaN       NaN         NaN      NaN       NaN  \n",
      "1      NaN       NaN         NaN      NaN       NaN  \n",
      "2      NaN       NaN         NaN      NaN       NaN  \n",
      "3      NaN       NaN         NaN      NaN       NaN  \n",
      "4      NaN       NaN         NaN      NaN       NaN  \n",
      "\n",
      "[5 rows x 36 columns]\n",
      "Index(['SECORCOD1', 'SECORC1', 'SECORM1', 'SECORCOD2', 'SECORC2', 'SECORM2',\n",
      "       'SECORCOD3', 'SECORC3', 'SECORM3', 'SECORCOD4', 'SECORC4', 'SECORM4',\n",
      "       'SECORCOD5', 'SECORC5', 'SECORM5', 'SECORCOD6', 'SECORC6', 'SECORM6',\n",
      "       'SECORCOD7', 'SECORC7', 'SECORM7', 'SECORCOD8', 'SECORC8', 'SECORM8',\n",
      "       'SECORCOD9', 'SECORC9', 'SECORM9', 'SECORCOD10', 'SECORC10', 'SECORM10',\n",
      "       'SECORCOD11', 'SECORC11', 'SECORM11', 'SECORCOD12', 'SECORC12',\n",
      "       'SECORM12'],\n",
      "      dtype='object')\n"
     ]
    }
   ],
   "source": [
    "print(top6CourseMarks.head())\n",
    "print(top6CourseMarks.columns)"
   ]
  },
  {
   "cell_type": "code",
   "execution_count": 56,
   "metadata": {},
   "outputs": [],
   "source": [
    "courseCodeCols = ['SECORCOD' + str(i+1) for i in range(12)]\n",
    "maxScore = ['SECORC' + str(i+1) for i in range(12)] #I'm assuming that's what this column is? (useless)\n",
    "studentScoreCols = ['SECORM' + str(i+1) for i in range(12)]\n",
    "goalCourses = ['MHF4U', 'MCV4U', 'ENG4U', 'SCH4U', 'SPH4U']\n",
    "\n",
    "# Advanced functions: MHF4U\n",
    "# Calculus: MCV4U\n",
    "# English: ENG4U\n",
    "# Chemistry: SCH4U\n",
    "# Physics: SPH4U\n",
    "# Next highest mark, anything"
   ]
  },
  {
   "cell_type": "code",
   "execution_count": 57,
   "metadata": {},
   "outputs": [],
   "source": [
    "def averageFinder(allStudentMarks):\n",
    "    studentAverages = []\n",
    "    for index, row in allStudentMarks.iterrows(): \n",
    "        try:\n",
    "            studentCourseCodes = [row[courseCodeCol] for courseCodeCol in courseCodeCols]\n",
    "            studentGrades = [row[studentScoreCol] for studentScoreCol in studentScoreCols]\n",
    "            studentCourseCodes = [val for val in studentCourseCodes if type(val) == str]\n",
    "            studentGrades = [val for val in studentGrades if str(val) != 'nan']\n",
    "\n",
    "            necessaryCourses = [int(studentGrades[i]) for i in range(len(studentGrades)) if studentCourseCodes[i] in goalCourses]\n",
    "            remainder = [int(studentGrades[i]) for i in range(len(studentGrades)) if studentCourseCodes[i] not in goalCourses]\n",
    "\n",
    "            # Some students don't seem to have 6 courses.\n",
    "            # Set their average to -1 in this case.\n",
    "            print(remainder)\n",
    "            print(necessaryCourses)\n",
    "            average = (max(remainder) + sum(necessaryCourses))/6\n",
    "            studentAverages.append(average)        \n",
    "        except ValueError:\n",
    "#             print(\"Student with incorrect number of courses applied.\")\n",
    "            studentAverages.append(-1)\n",
    "    return studentAverages\n",
    "    \n",
    "# print(averageFinder(top6CourseMarks))"
   ]
  },
  {
   "cell_type": "code",
   "execution_count": 58,
   "metadata": {},
   "outputs": [],
   "source": [
    "# Finding the student's choice preference for the university:\n",
    "# This data is found in the 'choices' dataframe.\n",
    "uniChoiceCols = ['DUNI'+str(i+1) for i in range(20)]\n",
    "programChoiceCols = ['DPRO1' + str(i+1) for i in range(20)]\n",
    "goalUni = '196'"
   ]
  },
  {
   "cell_type": "code",
   "execution_count": 59,
   "metadata": {},
   "outputs": [],
   "source": [
    "def uniChoiceFinder(studentUniChoices):\n",
    "    studentAverages = []\n",
    "    for index, row in studentUniChoices.iterrows():\n",
    "        # Filtering student's preference for our university and our specific program.\n",
    "        studentCourseCodes = [i+1 for i in range(20) if (row['DUNI'+str(i+1)] == 196\n",
    "                                                                                and (row['DPRO'+str(i+1)] == 'SIA' \n",
    "                                                                                or row['DPRO'+str(i+1)] == 'SI'))]\n",
    "        studentAverages.append(studentCourseCodes[0])\n",
    "    return studentAverages"
   ]
  },
  {
   "cell_type": "code",
   "execution_count": 61,
   "metadata": {},
   "outputs": [],
   "source": [
    "def acceptedOurUni(firstPart):\n",
    "    acceptedArray = []\n",
    "    for index, row in firstPart.iterrows():\n",
    "        # Filtering student's preference for our university and our specific program.\n",
    "        studentAccepted = int(row['CONFUNI'] == 196 and (row['CONFPR'] == 'SIA' or row['CONFPR'] == 'SI'))\n",
    "        acceptedArray.append(studentAccepted)\n",
    "    return acceptedArray"
   ]
  },
  {
   "cell_type": "markdown",
   "metadata": {},
   "source": [
    "# Determining grade cutoff"
   ]
  },
  {
   "cell_type": "markdown",
   "metadata": {},
   "source": [
    "### Seperating relevant data\n",
    "- Splitting data into students who accept and offer from mac and those who don't.\n",
    "- Isolating 8 initial columns of interest for analysis"
   ]
  },
  {
   "cell_type": "code",
   "execution_count": null,
   "metadata": {},
   "outputs": [],
   "source": [
    "## Starting columns of interest:\n",
    "# RESPROV - Province of Residence\n",
    "# RESCNTY - County of Residence\n",
    "# ZIP3 - Residence Postal Code (First 3 Digits)\n",
    "# CONFUNI - Confirmed University (OurUni='196')\n",
    "# CONFPR - Confirmed Program (OurProg='SI', OurProg_coop='SIA')\n",
    "# CONFCHOIC - OUAC Confirmed Choice Preference\n",
    "# WAVERG1 - Weighted Average (best 6 OAC / Senior Level current year finals)\n",
    "# WAVERG2 - Weighted Average (best 6 OAC / Senior Level all year finals)\n",
    "## First 6 columns are in first half, last 2 are in \"Middle\" dataframe.\n",
    "\n",
    "COIsFirstHalf = [\"GEND\", \"SCHOOL\", \"ZIP3\", \"CONFUNI\", \"CONFPR\", \"CONFCHOIC\"]\n",
    "COIsSecondHalf = [\"WAVERG2\"]\n",
    "\n",
    "# Finding the student's average from the formula given by Dr. Franek.\n",
    "averages = averageFinder(top6CourseMarks)\n",
    "averagesDf = pd.DataFrame(averages, columns=['AVG'])\n",
    "\n",
    "# Making a dataframe with student's preferences\n",
    "preferences = uniChoiceFinder(choices)\n",
    "preferencesDf = pd.DataFrame(preferences, columns=['PREF'])\n",
    "\n",
    "# Dataframe with 1 for accepted our uni, 0 otherwise.\n",
    "acceptedArray = acceptedOurUni(firstPart)\n",
    "acceptedDf = pd.DataFrame(acceptedArray, columns=['ACCEPTED'])\n",
    "\n",
    "# Adding columns of interest found in first half of the data\n",
    "columnsOfInterest = pd.concat([firstPart[x] for x in COIsFirstHalf], axis=1)\n",
    "\n",
    "# Adding the rest of the columns of interest\n",
    "columnsOfInterest = pd.concat([columnsOfInterest] + [middle[x] for x in COIsSecondHalf] + \n",
    "                              [averagesDf] + [preferencesDf] + [acceptedDf],axis=1)\n",
    "copy = columnsOfInterest.copy()\n",
    "\n",
    "mcmasterVector = copy[\"CONFUNI\"] == 196\n",
    "notmcmasterVector = copy[\"CONFUNI\"] != 196\n",
    "allStudents = copy"
   ]
  },
  {
   "cell_type": "markdown",
   "metadata": {},
   "source": [
    "### Some min/max/average output for both student types:"
   ]
  },
  {
   "cell_type": "code",
   "execution_count": null,
   "metadata": {},
   "outputs": [],
   "source": [
    "# Students that received and accepted a McMaster offer:\n",
    "acceptedMcMaster = copy[mcmasterVector]\n",
    "# print(acceptedMcMaster)\n",
    "# print(acceptedMcMaster[(acceptedMcMaster[\"WAVERG2\"] > 0) & (acceptedMcMaster[\"CONFPR\"] == \"SIA\")].min())\n",
    "print(\"Students who accepted an offer from McMaster:\")\n",
    "print(\"Mean values for each column:\")\n",
    "print(acceptedMcMaster[(acceptedMcMaster[\"AVG\"] > 0) & (acceptedMcMaster[\"CONFPR\"] == \"SIA\")].mean())\n",
    "print(\"\\nMax values for each column:\")\n",
    "print(acceptedMcMaster[(acceptedMcMaster[\"AVG\"] > 0) & (acceptedMcMaster[\"CONFPR\"] == \"SIA\")].max())\n",
    "print(\"\\nLowest 5 weighted average:\")\n",
    "print(acceptedMcMaster[(acceptedMcMaster[\"AVG\"] > 0) & (acceptedMcMaster[\"CONFPR\"] == \"SI\")].nsmallest(20,\"WAVERG2\"))\n",
    "print(\"\\nShape of acceptedMcMaster df (number of students that accepted):\")\n",
    "print(acceptedMcMaster.shape)\n",
    "\n",
    "# Students that didn't accept a mcmaster offer:\n",
    "print('\\n\\n\\n\\n')\n",
    "notMcMaster = copy[notmcmasterVector]\n",
    "# print(notMcMaster)\n",
    "print(\"Min average of students who didn't accept mac offer\")\n",
    "print(notMcMaster[notMcMaster[\"AVG\"] > 0].min())\n",
    "print(\"\\nMax average of students who didn't accept mac offer\")\n",
    "print(notMcMaster[notMcMaster[\"AVG\"] > 0].max())\n",
    "print(\"\\nAverage average of students who didn't accept mac offer\")\n",
    "print(notMcMaster[notMcMaster[\"AVG\"] > 0].mean())\n"
   ]
  },
  {
   "cell_type": "code",
   "execution_count": null,
   "metadata": {},
   "outputs": [],
   "source": [
    "# print(acceptedMcMaster.shape)\n",
    "# print(notMcMaster.shape)\n",
    "print('McMaster students sample:')\n",
    "print(acceptedMcMaster.head(10))\n",
    "print('\\n\\n')\n",
    "print('All Students sample:')\n",
    "print(allStudents.head(20))\n",
    "# print(notMcMaster.head(50))"
   ]
  },
  {
   "cell_type": "markdown",
   "metadata": {},
   "source": [
    "## Exporting the dataframes to CSV"
   ]
  },
  {
   "cell_type": "code",
   "execution_count": null,
   "metadata": {},
   "outputs": [],
   "source": [
    "allStudents.to_csv('cleaned_data/allStudents/allStudents_'+str(year)+'.csv',index=False)\n",
    "acceptedMcMaster.to_csv('cleaned_data/acceptedOurUni/acceptedOurUni_'+str(year)+'.csv',index=False)\n",
    "notMcMaster.to_csv('cleaned_data/didndtAccept/didntAccept_'+str(year)+'.csv',index=False)\n",
    "print(year)"
   ]
  },
  {
   "cell_type": "code",
   "execution_count": null,
   "metadata": {},
   "outputs": [],
   "source": []
  }
 ],
 "metadata": {
  "kernelspec": {
   "display_name": "Python 3",
   "language": "python",
   "name": "python3"
  },
  "language_info": {
   "codemirror_mode": {
    "name": "ipython",
    "version": 3
   },
   "file_extension": ".py",
   "mimetype": "text/x-python",
   "name": "python",
   "nbconvert_exporter": "python",
   "pygments_lexer": "ipython3",
   "version": "3.7.4"
  }
 },
 "nbformat": 4,
 "nbformat_minor": 2
}
