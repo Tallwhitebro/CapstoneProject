{
 "cells": [
  {
   "cell_type": "code",
   "execution_count": 423,
   "metadata": {},
   "outputs": [],
   "source": [
    "import time # for timing training of data\n",
    "import pandas as pd\n",
    "from sklearn.svm import SVC # actual support vector classifier"
   ]
  },
  {
   "cell_type": "code",
   "execution_count": 424,
   "metadata": {},
   "outputs": [
    {
     "name": "stdout",
     "output_type": "stream",
     "text": [
      "Total students: 6557\n"
     ]
    }
   ],
   "source": [
    "# load cleaned up csvs into dataframe\n",
    "path = 'cleaned_data/receivedOffer/receivedOffer_' #receivedOffer/receivedOffer_' # allStudents/allStudents_\n",
    "years = [11,12,13,14,15,16] # 17 <- used for testing created model\n",
    "target = 'ACCEPTED'\n",
    "\n",
    "df_test = pd.read_csv(path + '17.csv')\n",
    "df_train = pd.read_csv(path + '10.csv') # one of the years that'll be used for training\n",
    "\n",
    "# add more data to train on\n",
    "for y in years:\n",
    "    #print(' + Year: ' + str(y) + ' = ')\n",
    "    df_train = df_train.append(pd.read_csv(path + str(y)+'.csv'))\n",
    "    \n",
    "print('Total students: ' + str(len(df_train)))\n",
    "\n",
    "#maybe combining and scrambling the data and splitting the data 80-20 for training and testing would be better?\n",
    "#so \"from sklearn.model_selection import train_test_split\"?\n",
    "\n",
    "#32710 students --> 28446 students after removing students with any empty fields"
   ]
  },
  {
   "cell_type": "code",
   "execution_count": 425,
   "metadata": {},
   "outputs": [
    {
     "name": "stdout",
     "output_type": "stream",
     "text": [
      "6557\n",
      "6450\n",
      "6450\n"
     ]
    }
   ],
   "source": [
    "print(len(df_train))\n",
    "df_train.dropna(axis=0, how='any', thresh=None, subset=None, inplace=True) #dropping all rows that contain an empty value\n",
    "print(len(df_train))\n",
    "print(len(df_train.ACCEPTED))"
   ]
  },
  {
   "cell_type": "code",
   "execution_count": 426,
   "metadata": {},
   "outputs": [
    {
     "name": "stdout",
     "output_type": "stream",
     "text": [
      "6450\n",
      "6450\n"
     ]
    }
   ],
   "source": [
    "#dir(df_train)\n",
    "df_train_tgt=df_train.ACCEPTED #get 1d array as the target\n",
    "df_test_tgt=df_test.ACCEPTED\n",
    "\n",
    "# drop target columns from datasets\n",
    "#df_train.head()\n",
    "df_train = df_train.drop(['ACCEPTED'], axis='columns')\n",
    "df_train = df_train.drop(['ZIP3'], axis='columns') # temporary\n",
    "df_test = df_test.drop(['ACCEPTED'], axis='columns')\n",
    "df_test = df_test.drop(['ZIP3'], axis='columns') # temporary\n",
    "\n",
    "#df_test.head()\n",
    "print(len(df_train))\n",
    "#print(len(df_train.ACCEPTED))\n",
    "print(len(df_train_tgt))"
   ]
  },
  {
   "cell_type": "code",
   "execution_count": 427,
   "metadata": {},
   "outputs": [],
   "source": [
    "from sklearn.model_selection import train_test_split # for splitting dataset\n",
    "X_train, X_test, y_train, y_test = train_test_split(df_train, df_train_tgt, test_size=0.2) # 80% test and 20% training"
   ]
  },
  {
   "cell_type": "code",
   "execution_count": 428,
   "metadata": {},
   "outputs": [
    {
     "name": "stdout",
     "output_type": "stream",
     "text": [
      "5160\n",
      "5160\n",
      "1290\n",
      "1290\n"
     ]
    }
   ],
   "source": [
    "print(len(X_train))\n",
    "print(len(y_train))\n",
    "print(len(X_test))\n",
    "print(len(y_test))"
   ]
  },
  {
   "cell_type": "code",
   "execution_count": 429,
   "metadata": {},
   "outputs": [
    {
     "name": "stdout",
     "output_type": "stream",
     "text": [
      "[LibSVM]0.8201550387596899\n",
      "Time taken in seconds: 3.3229429721832275\n"
     ]
    }
   ],
   "source": [
    "model2 = SVC(verbose=True, gamma=1000, C=10) #decision_function_shape='ovo', class_weight={0: 606, 1: 2619}, gamma='auto', class_weight={0: 202, 1: 873}\n",
    "start2 = time.time()\n",
    "model2.fit(X_train, y_train) # call fit method to train your model\n",
    "end2 = time.time()\n",
    "print(model2.score(X_test, y_test))\n",
    "print(\"Time taken in seconds: \" + str(end2 - start2))"
   ]
  },
  {
   "cell_type": "code",
   "execution_count": 323,
   "metadata": {},
   "outputs": [
    {
     "name": "stdout",
     "output_type": "stream",
     "text": [
      "1    5238\n",
      "0    1212\n",
      "Name: ACCEPTED, dtype: int64\n"
     ]
    }
   ],
   "source": [
    "print(df_train_tgt.value_counts()) # 23% of all student data is students that have accepted offers... \n",
    "# was all data of students that were offered admission?"
   ]
  },
  {
   "cell_type": "code",
   "execution_count": 380,
   "metadata": {},
   "outputs": [
    {
     "name": "stdout",
     "output_type": "stream",
     "text": [
      "SVC(C=9, break_ties=False, cache_size=200, class_weight=None, coef0=0.0,\n",
      "    decision_function_shape='ovr', degree=3, gamma=1000, kernel='rbf',\n",
      "    max_iter=-1, probability=False, random_state=None, shrinking=True,\n",
      "    tol=0.001, verbose=True)\n"
     ]
    }
   ],
   "source": [
    "print(model2)\n",
    "#len(df_train)"
   ]
  },
  {
   "cell_type": "code",
   "execution_count": 64,
   "metadata": {},
   "outputs": [
    {
     "data": {
      "text/plain": [
       "4614"
      ]
     },
     "execution_count": 64,
     "metadata": {},
     "output_type": "execute_result"
    }
   ],
   "source": [
    "len(df_test)"
   ]
  },
  {
   "cell_type": "code",
   "execution_count": 65,
   "metadata": {},
   "outputs": [
    {
     "data": {
      "text/html": [
       "<div>\n",
       "<style scoped>\n",
       "    .dataframe tbody tr th:only-of-type {\n",
       "        vertical-align: middle;\n",
       "    }\n",
       "\n",
       "    .dataframe tbody tr th {\n",
       "        vertical-align: top;\n",
       "    }\n",
       "\n",
       "    .dataframe thead th {\n",
       "        text-align: right;\n",
       "    }\n",
       "</style>\n",
       "<table border=\"1\" class=\"dataframe\">\n",
       "  <thead>\n",
       "    <tr style=\"text-align: right;\">\n",
       "      <th></th>\n",
       "      <th>GEND</th>\n",
       "      <th>SCHOOL</th>\n",
       "      <th>CONFUNI</th>\n",
       "      <th>CONFCHOIC</th>\n",
       "      <th>WAVERG2</th>\n",
       "      <th>AVG</th>\n",
       "      <th>PREF</th>\n",
       "    </tr>\n",
       "  </thead>\n",
       "  <tbody>\n",
       "    <tr>\n",
       "      <th>0</th>\n",
       "      <td>119</td>\n",
       "      <td>11219</td>\n",
       "      <td>192.0</td>\n",
       "      <td>3.0</td>\n",
       "      <td>708</td>\n",
       "      <td>70.833333</td>\n",
       "      <td>2</td>\n",
       "    </tr>\n",
       "    <tr>\n",
       "      <th>1</th>\n",
       "      <td>119</td>\n",
       "      <td>11219</td>\n",
       "      <td>192.0</td>\n",
       "      <td>4.0</td>\n",
       "      <td>645</td>\n",
       "      <td>64.500000</td>\n",
       "      <td>2</td>\n",
       "    </tr>\n",
       "    <tr>\n",
       "      <th>2</th>\n",
       "      <td>120</td>\n",
       "      <td>11219</td>\n",
       "      <td>191.0</td>\n",
       "      <td>2.0</td>\n",
       "      <td>860</td>\n",
       "      <td>86.000000</td>\n",
       "      <td>4</td>\n",
       "    </tr>\n",
       "    <tr>\n",
       "      <th>3</th>\n",
       "      <td>120</td>\n",
       "      <td>11219</td>\n",
       "      <td>178.0</td>\n",
       "      <td>3.0</td>\n",
       "      <td>893</td>\n",
       "      <td>89.333333</td>\n",
       "      <td>4</td>\n",
       "    </tr>\n",
       "    <tr>\n",
       "      <th>4</th>\n",
       "      <td>120</td>\n",
       "      <td>11219</td>\n",
       "      <td>196.0</td>\n",
       "      <td>2.0</td>\n",
       "      <td>843</td>\n",
       "      <td>84.333333</td>\n",
       "      <td>2</td>\n",
       "    </tr>\n",
       "  </tbody>\n",
       "</table>\n",
       "</div>"
      ],
      "text/plain": [
       "   GEND  SCHOOL  CONFUNI  CONFCHOIC  WAVERG2        AVG  PREF\n",
       "0   119   11219    192.0        3.0      708  70.833333     2\n",
       "1   119   11219    192.0        4.0      645  64.500000     2\n",
       "2   120   11219    191.0        2.0      860  86.000000     4\n",
       "3   120   11219    178.0        3.0      893  89.333333     4\n",
       "4   120   11219    196.0        2.0      843  84.333333     2"
      ]
     },
     "execution_count": 65,
     "metadata": {},
     "output_type": "execute_result"
    }
   ],
   "source": [
    "df_train.head()"
   ]
  },
  {
   "cell_type": "code",
   "execution_count": 66,
   "metadata": {},
   "outputs": [
    {
     "name": "stdout",
     "output_type": "stream",
     "text": [
      "[LibSVM]Time taken in seconds: 36.63184714317322\n"
     ]
    }
   ],
   "source": [
    "model = SVC(verbose=True) #, class_weight='balanced')\n",
    "start = time.time()\n",
    "model.fit(df_train, df_train_tgt)\n",
    "end = time.time()\n",
    "print(\"Time taken in seconds: \" + str(end - start))\n",
    "\n",
    "# parameter changing to be done here\n",
    "# fixme: get progress to show in some way upon execution\n",
    "# takes about 15 minutes to run"
   ]
  },
  {
   "cell_type": "code",
   "execution_count": 67,
   "metadata": {},
   "outputs": [
    {
     "data": {
      "text/plain": [
       "0.8099263112267013"
      ]
     },
     "execution_count": 67,
     "metadata": {},
     "output_type": "execute_result"
    }
   ],
   "source": [
    "model.score(df_test, df_test_tgt)"
   ]
  },
  {
   "cell_type": "code",
   "execution_count": 68,
   "metadata": {},
   "outputs": [
    {
     "name": "stdout",
     "output_type": "stream",
     "text": [
      "SVC(C=1.0, break_ties=False, cache_size=200, class_weight=None, coef0=0.0,\n",
      "    decision_function_shape='ovr', degree=3, gamma='scale', kernel='rbf',\n",
      "    max_iter=-1, probability=False, random_state=None, shrinking=True,\n",
      "    tol=0.001, verbose=True)\n"
     ]
    }
   ],
   "source": [
    "print(model)"
   ]
  },
  {
   "cell_type": "code",
   "execution_count": null,
   "metadata": {},
   "outputs": [],
   "source": []
  }
 ],
 "metadata": {
  "kernelspec": {
   "display_name": "Python 3",
   "language": "python",
   "name": "python3"
  },
  "language_info": {
   "codemirror_mode": {
    "name": "ipython",
    "version": 3
   },
   "file_extension": ".py",
   "mimetype": "text/x-python",
   "name": "python",
   "nbconvert_exporter": "python",
   "pygments_lexer": "ipython3",
   "version": "3.7.1"
  }
 },
 "nbformat": 4,
 "nbformat_minor": 2
}
