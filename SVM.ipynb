{
 "cells": [
  {
   "cell_type": "code",
   "execution_count": 2,
   "metadata": {},
   "outputs": [],
   "source": [
    "import time # for timing training of data\n",
    "import pandas as pd\n",
    "import numpy as np\n",
    "from sklearn.svm import SVC # actual support vector classifier\n",
    "from sklearn.model_selection import train_test_split # for splitting dataset\n",
    "\n",
    "import imblearn\n",
    "from imblearn.over_sampling import SMOTE\n",
    "from collections import Counter\n",
    "from sklearn.model_selection import RepeatedKFold, RepeatedStratifiedKFold\n",
    "from sklearn.model_selection import cross_val_score"
   ]
  },
  {
   "cell_type": "code",
   "execution_count": 3,
   "metadata": {},
   "outputs": [
    {
     "name": "stdout",
     "output_type": "stream",
     "text": [
      "Total students: 7668\n",
      "7668\n",
      "7531\n",
      "7531\n",
      "...\n",
      "1    6115\n",
      "0    1416\n",
      "Name: ACCEPTED, dtype: int64\n"
     ]
    }
   ],
   "source": [
    "# load cleaned up csvs into dataframe\n",
    "path = 'cleaned_data/receivedOffer/receivedOffer_' #receivedOffer/receivedOffer_' # allStudents/allStudents_\n",
    "years = [11,12,13,14,15,16, 17]\n",
    "target = 'ACCEPTED'\n",
    "\n",
    "df = pd.read_csv(path + '10.csv') # one of the years that'll be used for training\n",
    "\n",
    "# add more data to train on\n",
    "for y in years:\n",
    "    df = df.append(pd.read_csv(path + str(y)+'.csv'))\n",
    "    \n",
    "print('Total students: ' + str(len(df)))\n",
    "print(len(df))\n",
    "df.dropna(axis=0, how='any', thresh=None, subset=None, inplace=True) #dropping all rows that contain an empty value\n",
    "print(len(df))\n",
    "print(len(df.ACCEPTED))\n",
    "\n",
    "df_tgt = df.ACCEPTED #get 1d array as the target\n",
    "df = df.drop(['ACCEPTED'], axis='columns')\n",
    "df = df.drop(['ZIP3'], axis='columns') # temporary\n",
    "\n",
    "print('...')\n",
    "#X_train, X_test, y_train, y_test = train_test_split(df_train, df_train_tgt, test_size=0.2) # 80% test and 20% training\n",
    "#print(len(X_train))\n",
    "#print(len(y_train))\n",
    "#print(len(X_test))\n",
    "#print(len(y_test))\n",
    "print(df_tgt.value_counts()) # 23% of students offered admission didn't accept "
   ]
  },
  {
   "cell_type": "code",
   "execution_count": 4,
   "metadata": {},
   "outputs": [
    {
     "name": "stdout",
     "output_type": "stream",
     "text": [
      "1    6115\n",
      "0    1416\n",
      "Name: ACCEPTED, dtype: int64\n",
      "1    6115\n",
      "0    6115\n",
      "Name: ACCEPTED, dtype: int64\n"
     ]
    }
   ],
   "source": [
    "print(df_tgt.value_counts())\n",
    "oversample = SMOTE()\n",
    "df, df_tgt = oversample.fit_resample(df, df_tgt)\n",
    "print(df_tgt.value_counts())\n",
    "X_train, X_test, y_train, y_test = train_test_split(df, df_tgt, test_size=0.2) # 80% test and 20% training"
   ]
  },
  {
   "cell_type": "code",
   "execution_count": null,
   "metadata": {},
   "outputs": [],
   "source": [
    "start = time.time()\n",
    "model = SVC(kernel = 'linear', verbose=True, class_weight='balanced')# C=10, gamma=10)\n",
    "model.fit(X_train, y_train) # call fit method to train your model\n",
    "end = time.time()\n",
    "print(\"Time taken in seconds: \" + str(end - start))\n",
    "print(model.score(X_test, y_test)) # tests model accuracy\n",
    "resultArray = model.predict(X_test)\n",
    "print(resultArray)\n",
    "unique, counts = np.unique(resultArray, return_counts=True)\n",
    "print(dict(zip(unique, counts)))\n",
    "print(model)\n",
    "cv = RepeatedStratifiedKFold(n_splits=10, n_repeats=3, random_state=1)\n",
    "scores = cross_val_score(model, df, df_tgt, scoring='roc_auc', cv=cv, n_jobs=-1)\n",
    "print('Mean ROC AUC: %.3f' % mean(scores))"
   ]
  },
  {
   "cell_type": "code",
   "execution_count": 584,
   "metadata": {},
   "outputs": [
    {
     "ename": "TypeError",
     "evalue": "'(0    False\n0    False\n0    False\n0    False\n0    False\n0    False\n0     True\n0    False\nName: ACCEPTED, dtype: bool, 0)' is an invalid key",
     "output_type": "error",
     "traceback": [
      "\u001b[1;31m---------------------------------------------------------------------------\u001b[0m",
      "\u001b[1;31mTypeError\u001b[0m                                 Traceback (most recent call last)",
      "\u001b[1;32m<ipython-input-584-fe3b956fbadd>\u001b[0m in \u001b[0;36m<module>\u001b[1;34m\u001b[0m\n\u001b[0;32m      4\u001b[0m \u001b[1;32mfor\u001b[0m \u001b[0mlabel\u001b[0m \u001b[1;32min\u001b[0m \u001b[0mrange\u001b[0m\u001b[1;33m(\u001b[0m\u001b[1;36m1\u001b[0m\u001b[1;33m)\u001b[0m\u001b[1;33m:\u001b[0m\u001b[1;33m\u001b[0m\u001b[1;33m\u001b[0m\u001b[0m\n\u001b[0;32m      5\u001b[0m     \u001b[0mrow_ix\u001b[0m \u001b[1;33m=\u001b[0m \u001b[1;33m(\u001b[0m\u001b[0mdf_tgt\u001b[0m \u001b[1;33m==\u001b[0m \u001b[0mlabel\u001b[0m\u001b[1;33m)\u001b[0m\u001b[1;33m[\u001b[0m\u001b[1;36m0\u001b[0m\u001b[1;33m]\u001b[0m\u001b[1;33m\u001b[0m\u001b[1;33m\u001b[0m\u001b[0m\n\u001b[1;32m----> 6\u001b[1;33m     \u001b[0mpyplot\u001b[0m\u001b[1;33m.\u001b[0m\u001b[0mscatter\u001b[0m\u001b[1;33m(\u001b[0m\u001b[0mdf\u001b[0m\u001b[1;33m[\u001b[0m\u001b[0mrow_ix\u001b[0m\u001b[1;33m,\u001b[0m \u001b[1;36m0\u001b[0m\u001b[1;33m]\u001b[0m\u001b[1;33m,\u001b[0m \u001b[0mdf\u001b[0m\u001b[1;33m[\u001b[0m\u001b[0mrow_ix\u001b[0m\u001b[1;33m,\u001b[0m \u001b[1;36m1\u001b[0m\u001b[1;33m]\u001b[0m\u001b[1;33m,\u001b[0m \u001b[0mlabel\u001b[0m\u001b[1;33m=\u001b[0m\u001b[0mstr\u001b[0m\u001b[1;33m(\u001b[0m\u001b[0mlabel\u001b[0m\u001b[1;33m)\u001b[0m\u001b[1;33m)\u001b[0m\u001b[1;33m\u001b[0m\u001b[1;33m\u001b[0m\u001b[0m\n\u001b[0m\u001b[0;32m      7\u001b[0m \u001b[0mpyplot\u001b[0m\u001b[1;33m.\u001b[0m\u001b[0mlegend\u001b[0m\u001b[1;33m(\u001b[0m\u001b[1;33m)\u001b[0m\u001b[1;33m\u001b[0m\u001b[1;33m\u001b[0m\u001b[0m\n\u001b[0;32m      8\u001b[0m \u001b[0mpyplot\u001b[0m\u001b[1;33m.\u001b[0m\u001b[0mshow\u001b[0m\u001b[1;33m(\u001b[0m\u001b[1;33m)\u001b[0m\u001b[1;33m\u001b[0m\u001b[1;33m\u001b[0m\u001b[0m\n",
      "\u001b[1;32m~\\Anaconda3\\lib\\site-packages\\pandas\\core\\frame.py\u001b[0m in \u001b[0;36m__getitem__\u001b[1;34m(self, key)\u001b[0m\n\u001b[0;32m   2798\u001b[0m             \u001b[1;32mif\u001b[0m \u001b[0mself\u001b[0m\u001b[1;33m.\u001b[0m\u001b[0mcolumns\u001b[0m\u001b[1;33m.\u001b[0m\u001b[0mnlevels\u001b[0m \u001b[1;33m>\u001b[0m \u001b[1;36m1\u001b[0m\u001b[1;33m:\u001b[0m\u001b[1;33m\u001b[0m\u001b[1;33m\u001b[0m\u001b[0m\n\u001b[0;32m   2799\u001b[0m                 \u001b[1;32mreturn\u001b[0m \u001b[0mself\u001b[0m\u001b[1;33m.\u001b[0m\u001b[0m_getitem_multilevel\u001b[0m\u001b[1;33m(\u001b[0m\u001b[0mkey\u001b[0m\u001b[1;33m)\u001b[0m\u001b[1;33m\u001b[0m\u001b[1;33m\u001b[0m\u001b[0m\n\u001b[1;32m-> 2800\u001b[1;33m             \u001b[0mindexer\u001b[0m \u001b[1;33m=\u001b[0m \u001b[0mself\u001b[0m\u001b[1;33m.\u001b[0m\u001b[0mcolumns\u001b[0m\u001b[1;33m.\u001b[0m\u001b[0mget_loc\u001b[0m\u001b[1;33m(\u001b[0m\u001b[0mkey\u001b[0m\u001b[1;33m)\u001b[0m\u001b[1;33m\u001b[0m\u001b[1;33m\u001b[0m\u001b[0m\n\u001b[0m\u001b[0;32m   2801\u001b[0m             \u001b[1;32mif\u001b[0m \u001b[0mis_integer\u001b[0m\u001b[1;33m(\u001b[0m\u001b[0mindexer\u001b[0m\u001b[1;33m)\u001b[0m\u001b[1;33m:\u001b[0m\u001b[1;33m\u001b[0m\u001b[1;33m\u001b[0m\u001b[0m\n\u001b[0;32m   2802\u001b[0m                 \u001b[0mindexer\u001b[0m \u001b[1;33m=\u001b[0m \u001b[1;33m[\u001b[0m\u001b[0mindexer\u001b[0m\u001b[1;33m]\u001b[0m\u001b[1;33m\u001b[0m\u001b[1;33m\u001b[0m\u001b[0m\n",
      "\u001b[1;32m~\\Anaconda3\\lib\\site-packages\\pandas\\core\\indexes\\base.py\u001b[0m in \u001b[0;36mget_loc\u001b[1;34m(self, key, method, tolerance)\u001b[0m\n\u001b[0;32m   2644\u001b[0m                 )\n\u001b[0;32m   2645\u001b[0m             \u001b[1;32mtry\u001b[0m\u001b[1;33m:\u001b[0m\u001b[1;33m\u001b[0m\u001b[1;33m\u001b[0m\u001b[0m\n\u001b[1;32m-> 2646\u001b[1;33m                 \u001b[1;32mreturn\u001b[0m \u001b[0mself\u001b[0m\u001b[1;33m.\u001b[0m\u001b[0m_engine\u001b[0m\u001b[1;33m.\u001b[0m\u001b[0mget_loc\u001b[0m\u001b[1;33m(\u001b[0m\u001b[0mkey\u001b[0m\u001b[1;33m)\u001b[0m\u001b[1;33m\u001b[0m\u001b[1;33m\u001b[0m\u001b[0m\n\u001b[0m\u001b[0;32m   2647\u001b[0m             \u001b[1;32mexcept\u001b[0m \u001b[0mKeyError\u001b[0m\u001b[1;33m:\u001b[0m\u001b[1;33m\u001b[0m\u001b[1;33m\u001b[0m\u001b[0m\n\u001b[0;32m   2648\u001b[0m                 \u001b[1;32mreturn\u001b[0m \u001b[0mself\u001b[0m\u001b[1;33m.\u001b[0m\u001b[0m_engine\u001b[0m\u001b[1;33m.\u001b[0m\u001b[0mget_loc\u001b[0m\u001b[1;33m(\u001b[0m\u001b[0mself\u001b[0m\u001b[1;33m.\u001b[0m\u001b[0m_maybe_cast_indexer\u001b[0m\u001b[1;33m(\u001b[0m\u001b[0mkey\u001b[0m\u001b[1;33m)\u001b[0m\u001b[1;33m)\u001b[0m\u001b[1;33m\u001b[0m\u001b[1;33m\u001b[0m\u001b[0m\n",
      "\u001b[1;32mpandas\\_libs\\index.pyx\u001b[0m in \u001b[0;36mpandas._libs.index.IndexEngine.get_loc\u001b[1;34m()\u001b[0m\n",
      "\u001b[1;32mpandas\\_libs\\index.pyx\u001b[0m in \u001b[0;36mpandas._libs.index.IndexEngine.get_loc\u001b[1;34m()\u001b[0m\n",
      "\u001b[1;31mTypeError\u001b[0m: '(0    False\n0    False\n0    False\n0    False\n0    False\n0    False\n0     True\n0    False\nName: ACCEPTED, dtype: bool, 0)' is an invalid key"
     ]
    }
   ],
   "source": [
    "# scatter plot of examples by class label\n",
    "import matplotlib.pyplot as pyplot\n",
    "counter_items = [0,1]\n",
    "for label in range(1):\n",
    "    row_ix = (df_tgt == label)[0]\n",
    "    pyplot.scatter(df[row_ix, 0], df[row_ix, 1], label=str(label))\n",
    "pyplot.legend()\n",
    "pyplot.show()"
   ]
  },
  {
   "cell_type": "code",
   "execution_count": 563,
   "metadata": {},
   "outputs": [
    {
     "name": "stdout",
     "output_type": "stream",
     "text": [
      "DONE\n"
     ]
    }
   ],
   "source": [
    "print('DONE')"
   ]
  },
  {
   "cell_type": "code",
   "execution_count": 499,
   "metadata": {},
   "outputs": [
    {
     "name": "stdout",
     "output_type": "stream",
     "text": [
      "Total students: 6557\n"
     ]
    }
   ],
   "source": [
    "# load cleaned up csvs into dataframe\n",
    "path = 'cleaned_data/receivedOffer/receivedOffer_' #receivedOffer/receivedOffer_' # allStudents/allStudents_\n",
    "years = [11,12,13,14,15,16] # 17 <- used for testing created model\n",
    "target = 'ACCEPTED'\n",
    "\n",
    "df_test = pd.read_csv(path + '17.csv')\n",
    "df_train = pd.read_csv(path + '10.csv') # one of the years that'll be used for training\n",
    "\n",
    "# add more data to train on\n",
    "for y in years:\n",
    "    #print(' + Year: ' + str(y) + ' = ')\n",
    "    df_train = df_train.append(pd.read_csv(path + str(y)+'.csv'))\n",
    "    \n",
    "print('Total students: ' + str(len(df_train)))\n",
    "\n",
    "#maybe combining and scrambling the data and splitting the data 80-20 for training and testing would be better?\n",
    "#so \"from sklearn.model_selection import train_test_split\"?\n",
    "\n",
    "#32710 students --> 28446 students after removing students with any empty fields"
   ]
  },
  {
   "cell_type": "code",
   "execution_count": 500,
   "metadata": {},
   "outputs": [
    {
     "name": "stdout",
     "output_type": "stream",
     "text": [
      "6557\n",
      "6450\n",
      "6450\n"
     ]
    }
   ],
   "source": [
    "print(len(df_train))\n",
    "df_train.dropna(axis=0, how='any', thresh=None, subset=None, inplace=True) #dropping all rows that contain an empty value\n",
    "df_test.dropna(axis=0, how='any', thresh=None, subset=None, inplace=True) #dropping all rows that contain an empty value\n",
    "print(len(df_train))\n",
    "print(len(df_train.ACCEPTED))"
   ]
  },
  {
   "cell_type": "code",
   "execution_count": 501,
   "metadata": {},
   "outputs": [
    {
     "name": "stdout",
     "output_type": "stream",
     "text": [
      "6450\n",
      "6450\n"
     ]
    }
   ],
   "source": [
    "#dir(df_train)\n",
    "df_train_tgt=df_train.ACCEPTED #get 1d array as the target\n",
    "df_test_tgt=df_test.ACCEPTED\n",
    "\n",
    "# drop target columns from datasets\n",
    "#df_train.head()\n",
    "df_train = df_train.drop(['ACCEPTED'], axis='columns')\n",
    "df_train = df_train.drop(['ZIP3'], axis='columns') # temporary\n",
    "df_test = df_test.drop(['ACCEPTED'], axis='columns')\n",
    "df_test = df_test.drop(['ZIP3'], axis='columns') # temporary\n",
    "\n",
    "#df_test.head()\n",
    "print(len(df_train))\n",
    "#print(len(df_train.ACCEPTED))\n",
    "print(len(df_train_tgt))"
   ]
  },
  {
   "cell_type": "code",
   "execution_count": 502,
   "metadata": {},
   "outputs": [],
   "source": [
    "from sklearn.model_selection import train_test_split # for splitting dataset\n",
    "X_train, X_test, y_train, y_test = train_test_split(df_train, df_train_tgt, test_size=0.2) # 80% test and 20% training"
   ]
  },
  {
   "cell_type": "code",
   "execution_count": 503,
   "metadata": {},
   "outputs": [
    {
     "name": "stdout",
     "output_type": "stream",
     "text": [
      "5160\n",
      "5160\n",
      "1290\n",
      "1290\n",
      "[1 1 1 ... 1 1 1]\n",
      "0.8\n"
     ]
    }
   ],
   "source": [
    "print(len(X_train))\n",
    "print(len(y_train))\n",
    "print(len(X_test))\n",
    "print(len(y_test))\n",
    "\n",
    "model = SVC(kernel = 'rbf', C=10, gamma=10)\n",
    "model.fit(X_train, y_train)\n",
    "print(model.predict(X_test))\n",
    "print(model.score(X_test, y_test))"
   ]
  },
  {
   "cell_type": "code",
   "execution_count": 504,
   "metadata": {},
   "outputs": [
    {
     "name": "stdout",
     "output_type": "stream",
     "text": [
      "[LibSVM]0.813953488372093\n",
      "Time taken in seconds: 5.074544191360474\n"
     ]
    }
   ],
   "source": [
    "model2 = SVC(verbose=True, kernel='linear') #, gamma=1000, C=10) #decision_function_shape='ovo', class_weight={0: 606, 1: 2619}, gamma='auto', class_weight={0: 202, 1: 873}\n",
    "start2 = time.time()\n",
    "model2.fit(X_train, y_train) # call fit method to train your model\n",
    "end2 = time.time()\n",
    "print(model2.score(X_test, y_test)) # tests model accuracy\n",
    "print(\"Time taken in seconds: \" + str(end2 - start2))"
   ]
  },
  {
   "cell_type": "code",
   "execution_count": 505,
   "metadata": {},
   "outputs": [
    {
     "name": "stdout",
     "output_type": "stream",
     "text": [
      "1    5238\n",
      "0    1212\n",
      "Name: ACCEPTED, dtype: int64\n"
     ]
    }
   ],
   "source": [
    "print(df_train_tgt.value_counts()) # 23% of all student data is students that have accepted offers... \n",
    "# was all data of students that were offered admission?"
   ]
  },
  {
   "cell_type": "code",
   "execution_count": 507,
   "metadata": {},
   "outputs": [
    {
     "name": "stdout",
     "output_type": "stream",
     "text": [
      "SVC(C=1.0, break_ties=False, cache_size=200, class_weight=None, coef0=0.0,\n",
      "    decision_function_shape='ovr', degree=3, gamma='scale', kernel='linear',\n",
      "    max_iter=-1, probability=False, random_state=None, shrinking=True,\n",
      "    tol=0.001, verbose=True)\n",
      "[1 1 1 ... 1 1 1]\n"
     ]
    },
    {
     "data": {
      "text/plain": [
       "{0: 44, 1: 1246}"
      ]
     },
     "execution_count": 507,
     "metadata": {},
     "output_type": "execute_result"
    }
   ],
   "source": [
    "print(model2)\n",
    "#len(df_train)\n",
    "resultArray = model2.predict(X_test)\n",
    "print(resultArray)\n",
    "unique, counts = np.unique(resultArray, return_counts=True)\n",
    "dict(zip(unique, counts))"
   ]
  },
  {
   "cell_type": "code",
   "execution_count": 491,
   "metadata": {},
   "outputs": [
    {
     "data": {
      "text/plain": [
       "1081"
      ]
     },
     "execution_count": 491,
     "metadata": {},
     "output_type": "execute_result"
    }
   ],
   "source": [
    "len(df_test)"
   ]
  },
  {
   "cell_type": "code",
   "execution_count": 492,
   "metadata": {},
   "outputs": [
    {
     "data": {
      "text/html": [
       "<div>\n",
       "<style scoped>\n",
       "    .dataframe tbody tr th:only-of-type {\n",
       "        vertical-align: middle;\n",
       "    }\n",
       "\n",
       "    .dataframe tbody tr th {\n",
       "        vertical-align: top;\n",
       "    }\n",
       "\n",
       "    .dataframe thead th {\n",
       "        text-align: right;\n",
       "    }\n",
       "</style>\n",
       "<table border=\"1\" class=\"dataframe\">\n",
       "  <thead>\n",
       "    <tr style=\"text-align: right;\">\n",
       "      <th></th>\n",
       "      <th>GEND</th>\n",
       "      <th>SCHOOL</th>\n",
       "      <th>CONFUNI</th>\n",
       "      <th>CONFCHOIC</th>\n",
       "      <th>WAVERG2</th>\n",
       "      <th>AVG</th>\n",
       "      <th>PREF</th>\n",
       "      <th>DIST</th>\n",
       "    </tr>\n",
       "  </thead>\n",
       "  <tbody>\n",
       "    <tr>\n",
       "      <th>0</th>\n",
       "      <td>120</td>\n",
       "      <td>11219</td>\n",
       "      <td>196.0</td>\n",
       "      <td>2.0</td>\n",
       "      <td>843</td>\n",
       "      <td>84.333333</td>\n",
       "      <td>2</td>\n",
       "      <td>82.268</td>\n",
       "    </tr>\n",
       "    <tr>\n",
       "      <th>1</th>\n",
       "      <td>119</td>\n",
       "      <td>10711</td>\n",
       "      <td>196.0</td>\n",
       "      <td>1.0</td>\n",
       "      <td>970</td>\n",
       "      <td>96.333333</td>\n",
       "      <td>1</td>\n",
       "      <td>120.785</td>\n",
       "    </tr>\n",
       "    <tr>\n",
       "      <th>2</th>\n",
       "      <td>120</td>\n",
       "      <td>11199</td>\n",
       "      <td>196.0</td>\n",
       "      <td>3.0</td>\n",
       "      <td>863</td>\n",
       "      <td>86.333333</td>\n",
       "      <td>3</td>\n",
       "      <td>5.061</td>\n",
       "    </tr>\n",
       "    <tr>\n",
       "      <th>3</th>\n",
       "      <td>120</td>\n",
       "      <td>11160</td>\n",
       "      <td>196.0</td>\n",
       "      <td>3.0</td>\n",
       "      <td>865</td>\n",
       "      <td>86.500000</td>\n",
       "      <td>3</td>\n",
       "      <td>85.743</td>\n",
       "    </tr>\n",
       "    <tr>\n",
       "      <th>4</th>\n",
       "      <td>120</td>\n",
       "      <td>10503</td>\n",
       "      <td>196.0</td>\n",
       "      <td>2.0</td>\n",
       "      <td>900</td>\n",
       "      <td>88.000000</td>\n",
       "      <td>2</td>\n",
       "      <td>78.822</td>\n",
       "    </tr>\n",
       "  </tbody>\n",
       "</table>\n",
       "</div>"
      ],
      "text/plain": [
       "   GEND  SCHOOL  CONFUNI  CONFCHOIC  WAVERG2        AVG  PREF     DIST\n",
       "0   120   11219    196.0        2.0      843  84.333333     2   82.268\n",
       "1   119   10711    196.0        1.0      970  96.333333     1  120.785\n",
       "2   120   11199    196.0        3.0      863  86.333333     3    5.061\n",
       "3   120   11160    196.0        3.0      865  86.500000     3   85.743\n",
       "4   120   10503    196.0        2.0      900  88.000000     2   78.822"
      ]
     },
     "execution_count": 492,
     "metadata": {},
     "output_type": "execute_result"
    }
   ],
   "source": [
    "df_train.head()"
   ]
  },
  {
   "cell_type": "code",
   "execution_count": 493,
   "metadata": {},
   "outputs": [
    {
     "name": "stdout",
     "output_type": "stream",
     "text": [
      "[LibSVM]Time taken in seconds: 0.7495152950286865\n"
     ]
    }
   ],
   "source": [
    "model = SVC(verbose=True) #, class_weight='balanced')\n",
    "start = time.time()\n",
    "model.fit(df_train, df_train_tgt)\n",
    "end = time.time()\n",
    "print(\"Time taken in seconds: \" + str(end - start))\n",
    "\n",
    "# parameter changing to be done here\n",
    "# fixme: get progress to show in some way upon execution\n",
    "# takes about 15 minutes to run"
   ]
  },
  {
   "cell_type": "code",
   "execution_count": 497,
   "metadata": {},
   "outputs": [
    {
     "name": "stdout",
     "output_type": "stream",
     "text": [
      "[1 1 1 ... 1 1 1]\n"
     ]
    },
    {
     "data": {
      "text/plain": [
       "{1: 1081}"
      ]
     },
     "execution_count": 497,
     "metadata": {},
     "output_type": "execute_result"
    }
   ],
   "source": [
    "model.score(df_test, df_test_tgt)\n",
    "resultArray = model.predict(df_test)\n",
    "print(resultArray)\n",
    "unique, counts = np.unique(resultArray, return_counts=True)\n",
    "dict(zip(unique, counts))"
   ]
  },
  {
   "cell_type": "code",
   "execution_count": 68,
   "metadata": {},
   "outputs": [
    {
     "name": "stdout",
     "output_type": "stream",
     "text": [
      "SVC(C=1.0, break_ties=False, cache_size=200, class_weight=None, coef0=0.0,\n",
      "    decision_function_shape='ovr', degree=3, gamma='scale', kernel='rbf',\n",
      "    max_iter=-1, probability=False, random_state=None, shrinking=True,\n",
      "    tol=0.001, verbose=True)\n"
     ]
    }
   ],
   "source": [
    "print(model)"
   ]
  },
  {
   "cell_type": "code",
   "execution_count": null,
   "metadata": {},
   "outputs": [],
   "source": []
  }
 ],
 "metadata": {
  "kernelspec": {
   "display_name": "Python 3",
   "language": "python",
   "name": "python3"
  },
  "language_info": {
   "codemirror_mode": {
    "name": "ipython",
    "version": 3
   },
   "file_extension": ".py",
   "mimetype": "text/x-python",
   "name": "python",
   "nbconvert_exporter": "python",
   "pygments_lexer": "ipython3",
   "version": "3.7.1"
  }
 },
 "nbformat": 4,
 "nbformat_minor": 2
}
